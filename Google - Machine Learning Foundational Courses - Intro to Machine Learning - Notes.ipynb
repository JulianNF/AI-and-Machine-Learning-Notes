{
 "cells": [
  {
   "attachments": {},
   "cell_type": "markdown",
   "metadata": {},
   "source": [
    "# Google - Machine Learning Foundational Courses - Intro to Machine Learning\n",
    "\n",
    "These are JulianNF's notes from following the [Google - Foundational Courses - Intro to Machine Learning](https://developers.google.com/machine-learning/intro-to-ml) course. Feel free to benefit from them if you're studying on your own.\n",
    "\n",
    "---"
   ]
  },
  {
   "attachments": {},
   "cell_type": "markdown",
   "metadata": {},
   "source": [
    "# Types of ML Systems\n",
    "\n",
    "ML systems fall into three distinct categories based on how they learn to make predictions:\n",
    "- Supervised learning\n",
    "\t- Regression\n",
    "\t- Classification\n",
    "\t\t- Binary classification\n",
    "\t\t- Multiclass classification\n",
    "\t- …\n",
    "- Unsupervised learning\n",
    "- Reinforcement learning"
   ]
  },
  {
   "attachments": {},
   "cell_type": "markdown",
   "metadata": {},
   "source": [
    "\n",
    "## Supervised Learning\n",
    "**If you know beforehand the value or category you want to predict, you'd use supervised learning.**\n",
    "\n",
    "Because supervised learning's tasks are well-defined, like identifying spam or predicting precipitation, it has more potential use cases than unsupervised learning. When compared with reinforcement learning, supervised learning better utilizes historical data.\n",
    "\n",
    "### Data\n",
    "The driving force of ML.\n",
    "\n",
    "**Datasets are made up of individual examples that contain features and a label.** You could think of an example as analogous to a single row in a spreadsheet. Features are the values that a supervised model uses to predict the label. The label is the \"answer,\" or the value we want the model to predict.\n",
    "\n",
    "![machine learning data terminology](img\\googleMlFundamentals-data_terminology.jpg)\n",
    " \n",
    "Examples that contain both features and a label are called “labeled examples”. In contrast, unlabeled examples contain features, but no label. After you create a model, the model predicts the label from the features.\n",
    "\n",
    "#### Dataset characteristics\n",
    "A dataset is characterized by its size and diversity.\n",
    "- Size indicates the number of examples.\n",
    "- Diversity indicates the range those examples cover. \n",
    "\n",
    "Good datasets are both large and highly diverse. For instance, a dataset might contain 100 years worth of data, but only for the month of July. Using this dataset to predict rainfall in January would produce poor predictions. Conversely, a dataset might cover only a few years but contain every month. This dataset might produce poor predictions because it doesn't contain enough years to account for variability.\n",
    "\n",
    "Datasets with more features can help a model discover additional patterns and make better predictions. However, datasets with more features don't always produce models that make better predictions because some features might have no causal relationship to the label.\n",
    "\n",
    "### Model\n",
    "In supervised learning, a model is the complex collection of numbers that define the mathematical relationship from specific input feature patterns to specific output label values. The model discovers these patterns through training.\n",
    "\n",
    "### Training\n",
    "Before a supervised model can make predictions, it must be trained. To train a model, we give the model a dataset with labeled examples. The model's goal is to work out the best solution for predicting the labels from the features. **The model finds the best solution by comparing its predicted value to the label's actual value.**\n",
    "\n",
    "Based on the difference between the predicted and actual values—defined as the loss—**the model gradually updates its solution**. In other words, the model learns the mathematical relationship between the features and the label so that it can make the best predictions on unseen data.\n",
    "\n",
    "For example, if the model predicted 1.15 inches of rain, but the actual value was .75 inches, the model modifies its solution so its prediction is closer to .75 inches. After the model has looked at each example in the dataset—in some cases, multiple times—it arrives at a solution that makes the best predictions, on average, for each of the examples.\n",
    "\n",
    "In this way, the model gradually learns the correct relationship between the features and the label. This gradual understanding is also why large and diverse datasets produce a better model. The model has seen more data with a wider range of values and has refined its understanding of the relationship between the features and the label.\n",
    "\n",
    "**During training, ML practitioners can make subtle adjustments to the configurations and features the model uses to make predictions.** For example, certain features have more predictive power than others. Therefore, ML practitioners can select which features the model uses during training. For example, suppose a weather dataset contains `time_of_day` as a feature. In this case, an ML practitioner can add or remove `time_of_day` during training to see whether the model makes better predictions with or without it.\n",
    "\n",
    "### Evaluating\n",
    "We evaluate a trained model to determine how well it learned. When we evaluate a model, we use a labeled dataset, but **we only give the model the dataset's features**. We then compare the model's predictions to the label's true values.\n",
    "\n",
    "Depending on the model's predictions, we might do more training and evaluating before deploying the model in a real-world application.\n",
    "\n",
    "### Inference\n",
    "Once we're satisfied with the results from evaluating the model, we can use the model to make predictions, called **inferences**, on unlabeled examples. In the weather app example, we would give the model the current weather conditions—like temperature, atmospheric pressure, and relative humidity—and it would predict the amount of rainfall.\n",
    "\n",
    "### Regression Models\n",
    "A regression model predicts a numeric value. For example, a weather model that predicts the amount of rain, in inches or millimeters, is a regression model.\n",
    "\n",
    "Other examples:\n",
    "|Scenario|\tPossible input data|\tNumeric prediction|\n",
    "|---|---|---|\n",
    "|Future house price |\tSquare footage, zip code, number of bedrooms and bathrooms, lot size, mortgage interest rate, property tax rate, construction costs, and number of homes for sale in the area.|The price of the home.|\n",
    "|Future ride time|\tHistorical traffic conditions (gathered from smartphones, traffic sensors, ride-hailing and other navigation applications), distance from destination, and weather conditions.\t|The time in minutes and seconds to arrive at a destination.|\n",
    "\n",
    "### Classification Models\n",
    "Classification models predict the likelihood that something belongs to a category. Unlike regression models, whose output is a number, **classification models output a value that states whether or not something belongs to a particular category.** For example, classification models are used to predict if an email is spam or if a photo contains a cat.\n",
    "\n",
    "Two model sub-groups:\n",
    "- Binary classification\n",
    "\t- output a value from a class that contains only two values (e.g.  rain / no rain)\n",
    "- Multiclass classification\n",
    "\t- output a value from a class that contains more than two values, (e.g. rain/hail/snow/sleet)."
   ]
  },
  {
   "attachments": {},
   "cell_type": "markdown",
   "metadata": {},
   "source": [
    "## Unsupervised learning\n",
    "**If you wanted to learn if your dataset contains any segmentations or groupings of related examples, you'd use unsupervised learning.**\n",
    "\n",
    "Unsupervised learning models make predictions by being given data that does not contain any correct answers. An unsupervised learning model's goal is to identify meaningful patterns among the data. In other words, the model has no hints on how to categorize each piece of data, but instead it must infer its own rules.\n",
    "\n",
    "A commonly used unsupervised learning model employs a technique called **clustering**. The model finds data points that demarcate natural groupings.\n",
    "\n",
    "![cluster clouds](img/googleMlFundamentals-cluster_clouds.jpg) ![demarcated cluster clouds](img\\googleMlFundamentals-demarcated_cluster_clouds.jpg)\n",
    "  \n",
    "**Clustering differs from classification because the categories aren't defined by you.** For example, an unsupervised model might cluster a weather dataset based on temperature, revealing segmentations that define the seasons. **You might then attempt to name those clusters based on your understanding of the dataset.**\n",
    "\n",
    "![labelled cluster clouds](img/googleMlFundamentals-cluster_clouds_labelled.jpg) ![labelled demarcated cluster clouds](img/googleMlFundamentals-demarcated_cluster_clouds_labelled.jpg)\n",
    "\n",
    "## Reinforcement Learning\n",
    "Reinforcement learning models **make predictions by getting rewards or penalties based on actions performed within an environment.** A reinforcement learning system **generates a policy** that defines the best strategy for getting the most rewards.\n",
    "\n",
    "Reinforcement learning is used to train robots to perform tasks, like walking around a room, and software programs like AlphaGo to play the game of Go."
   ]
  }
 ],
 "metadata": {
  "kernelspec": {
   "display_name": "Python 3",
   "language": "python",
   "name": "python3"
  },
  "language_info": {
   "name": "python",
   "version": "3.11.1 (tags/v3.11.1:a7a450f, Dec  6 2022, 19:58:39) [MSC v.1934 64 bit (AMD64)]"
  },
  "orig_nbformat": 4,
  "vscode": {
   "interpreter": {
    "hash": "aeb049b9bf8b16354ffe44053513d65a8ff15e732aed5d010b80564afa95e149"
   }
  }
 },
 "nbformat": 4,
 "nbformat_minor": 2
}
