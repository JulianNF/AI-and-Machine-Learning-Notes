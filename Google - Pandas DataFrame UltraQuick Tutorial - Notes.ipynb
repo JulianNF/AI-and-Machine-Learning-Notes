{
 "cells": [
  {
   "attachments": {},
   "cell_type": "markdown",
   "metadata": {},
   "source": [
    "# Pandas DataFrame UltraQuick Tutorial\n",
    "\n",
    "Machine Learning prework from Google ([link](https://colab.research.google.com/github/google/eng-edu/blob/main/ml/cc/exercises/pandas_dataframe_ultraquick_tutorial.ipynb?utm_source=mlcc&utm_campaign=colab-external&utm_medium=referral&utm_content=mlcc-prework&hl=en)).\n"
   ]
  },
  {
   "attachments": {},
   "cell_type": "markdown",
   "metadata": {},
   "source": [
    "[**DataFrames**](https://pandas.pydata.org/pandas-docs/stable/reference/api/pandas.DataFrame.html), are the central data structure in the pandas API. A DataFrame is similar to an in-memory spreadsheet. Like a spreadsheet:\n",
    "\n",
    "-   A DataFrame stores data in cells.\n",
    "-   A DataFrame has named columns (usually) and numbered rows.\n"
   ]
  },
  {
   "cell_type": "code",
   "execution_count": 1,
   "metadata": {},
   "outputs": [],
   "source": [
    "import numpy as np\n",
    "import pandas as pd"
   ]
  },
  {
   "attachments": {},
   "cell_type": "markdown",
   "metadata": {},
   "source": [
    "## Creating a DataFrame\n",
    "\n",
    "The following code cell creates a simple DataFrame containing 10 cells organized as follows:\n",
    "\n",
    "-   5 rows\n",
    "-   2 columns, one named `temperature` and the other named `activity`\n",
    "\n",
    "The following code cell instantiates a `pd.DataFrame` class to generate a DataFrame. The class takes two arguments:\n",
    "\n",
    "-   The first argument provides the data to populate the 10 cells. The code cell calls `np.array` to generate the 5x2 NumPy array.\n",
    "-   The second argument identifies the names of the two columns.\n"
   ]
  },
  {
   "cell_type": "code",
   "execution_count": 2,
   "metadata": {},
   "outputs": [
    {
     "name": "stdout",
     "output_type": "stream",
     "text": [
      "   Temperature  Activity\n",
      "0            0         3\n",
      "1           10         7\n",
      "2           20         9\n",
      "3           30        14\n",
      "4           40        15\n"
     ]
    }
   ],
   "source": [
    "# Create and populate a 5x2 NumPy array:\n",
    "my_data = np.array([\n",
    "    [0, 3],\n",
    "    [10, 7],\n",
    "    [20, 9],\n",
    "    [30, 14],\n",
    "    [40, 15],\n",
    "])\n",
    "\n",
    "# Create a Python list that holds the names of the two columns:\n",
    "my_column_names = ['Temperature', 'Activity']\n",
    "\n",
    "# Create a DataFrame:\n",
    "my_dataframe = pd.DataFrame(data=my_data, columns=my_column_names)\n",
    "\n",
    "print(my_dataframe)"
   ]
  },
  {
   "attachments": {},
   "cell_type": "markdown",
   "metadata": {},
   "source": [
    "## Adding a new column to a DataFrame\n",
    "\n",
    "You may add a new column to an existing pandas DataFrame just by assigning values to a new column name. For example, the following code creates a third column named `adjusted` in `my_dataframe`:\n"
   ]
  },
  {
   "cell_type": "code",
   "execution_count": 6,
   "metadata": {},
   "outputs": [
    {
     "name": "stdout",
     "output_type": "stream",
     "text": [
      "   Temperature  Activity  Adjusted\n",
      "0            0         3         5\n",
      "1           10         7         9\n",
      "2           20         9        11\n",
      "3           30        14        16\n",
      "4           40        15        17\n"
     ]
    }
   ],
   "source": [
    "my_dataframe[\"Adjusted\"] = my_dataframe[\"Activity\"] + 2\n",
    "print(my_dataframe)\n"
   ]
  },
  {
   "attachments": {},
   "cell_type": "markdown",
   "metadata": {},
   "source": [
    "## Specifying a subset of a DataFrame\n",
    "\n",
    "Pandas provide multiples ways to isolate specific rows, columns, slices or cells in a DataFrame. "
   ]
  },
  {
   "cell_type": "code",
   "execution_count": 12,
   "metadata": {},
   "outputs": [
    {
     "name": "stdout",
     "output_type": "stream",
     "text": [
      "Rows #0, #1, and #2:\n",
      "   Temperature  Activity  Adjusted\n",
      "0            0         3         5\n",
      "1           10         7         9\n",
      "2           20         9        11 \n",
      "\n",
      "Row #2:\n",
      "   Temperature  Activity  Adjusted\n",
      "2           20         9        11 \n",
      "\n",
      "Rows #1, #2, and #3:\n",
      "   Temperature  Activity  Adjusted\n",
      "1           10         7         9\n",
      "2           20         9        11\n",
      "3           30        14        16 \n",
      "\n",
      "Column 'Temperature'\n",
      "0     0\n",
      "1    10\n",
      "2    20\n",
      "3    30\n",
      "4    40\n",
      "Name: Temperature, dtype: int32\n"
     ]
    }
   ],
   "source": [
    "print('Rows #0, #1, and #2:')\n",
    "print(my_dataframe.head(3), '\\n')\n",
    "\n",
    "print('Row #2:')\n",
    "print(my_dataframe.iloc[[2]], '\\n')\n",
    "\n",
    "print('Rows #1, #2, and #3:')\n",
    "print(my_dataframe[1:4], '\\n')\n",
    "\n",
    "print(\"Column 'Temperature'\")\n",
    "print(my_dataframe['Temperature'])"
   ]
  },
  {
   "attachments": {},
   "cell_type": "markdown",
   "metadata": {},
   "source": [
    "## Task 1: Create a DataFrame\n",
    "\n",
    "Do the following:\n",
    "\n",
    "  1. Create an 3x4 (3 rows x 4 columns) pandas DataFrame in which the columns are named `Eleanor`,  `Chidi`, `Tahani`, and `Jason`.  Populate each of the 12 cells in the DataFrame with a random integer between 0 and 100, inclusive.\n",
    "\n",
    "  2. Output the following:\n",
    "\n",
    "     * the entire DataFrame\n",
    "     * the value in the cell of row #1 of the `Eleanor` column\n",
    "\n",
    "  3. Create a fifth column named `Janet`, which is populated with the row-by-row sums of `Tahani` and `Jason`.\n",
    "\n",
    "To complete this task, it helps to know the NumPy basics covered in the NumPy UltraQuick Tutorial. \n"
   ]
  },
  {
   "cell_type": "code",
   "execution_count": 31,
   "metadata": {},
   "outputs": [
    {
     "name": "stdout",
     "output_type": "stream",
     "text": [
      "[[75 58 95 19]\n",
      " [88 40 59 16]\n",
      " [48  5  0 51]]\n",
      "   Eleanor  Chidi  Tahani  Jason\n",
      "0       75     58      95     19\n",
      "1       88     40      59     16\n",
      "2       48      5       0     51\n",
      "   Eleanor  Chidi  Tahani  Jason  Janet\n",
      "0       75     58      95     19    114\n",
      "1       88     40      59     16     75\n",
      "2       48      5       0     51     51\n"
     ]
    }
   ],
   "source": [
    "# base = np.random.randint(low=0, high= 101, size=[3,4])\n",
    "dataset = np.random.randint(0, 101, [3,4])\n",
    "print(dataset)\n",
    "\n",
    "column_names = ['Eleanor', 'Chidi', 'Tahani', 'Jason']\n",
    "\n",
    "df = pd.DataFrame(data=dataset, columns=column_names)\n",
    "print(df)\n",
    "\n",
    "df['Janet'] = df['Tahani'] + df['Jason']\n",
    "print(df)\n"
   ]
  },
  {
   "attachments": {},
   "cell_type": "markdown",
   "metadata": {},
   "source": [
    "## Copying a DataFrame (optional)\n",
    "\n",
    "Pandas provides two different ways to duplicate a DataFrame:\n",
    "\n",
    "* **Referencing.** If you assign a DataFrame to a new variable, any change to the DataFrame or to the new variable will be reflected in the other. \n",
    "* **Copying.** If you call the `pd.DataFrame.copy` method, you create a true independent copy.  Changes to the original DataFrame or to the copy will not be reflected in the other. \n",
    "\n",
    "The difference is subtle, but important."
   ]
  },
  {
   "cell_type": "code",
   "execution_count": 40,
   "metadata": {},
   "outputs": [
    {
     "name": "stdout",
     "output_type": "stream",
     "text": [
      "Original dataframe:\n",
      "    Eleanor  Chidi  Tahani  Jason  Janet\n",
      "0       75     58      95     19    114\n",
      "1       88     40      59     21     75\n",
      "2       48      5       0     51     51\n",
      "Starting value of df: 21\n",
      "Starting value of reference_to_df: 21\n",
      "\n",
      "Updated value of df: 26\n",
      "Updated value of reference_to_df: 26\n",
      "\n",
      "Original dataframe:\n",
      "    Eleanor  Chidi  Tahani  Jason  Janet\n",
      "0       75     58      95     19    114\n",
      "1       88     40      59     26     75\n",
      "2       48      5       0     51     51\n",
      "Starting value of df: 26\n",
      "Starting value of reference_to_df: 26\n",
      "\n",
      "Updated value of df: 31\n",
      "Updated value of reference_to_df: 26\n",
      "\n"
     ]
    }
   ],
   "source": [
    "# Create a reference by assigning dataframe to a new variable:\n",
    "reference_to_df = df\n",
    "print('Original dataframe:\\n', df)\n",
    "print('Starting value of df: %d' % df['Jason'][1])\n",
    "print('Starting value of reference_to_df: %d\\n' % reference_to_df['Jason'][1])\n",
    "\n",
    "# Make some modifications:\n",
    "df.at[1, 'Jason'] = df['Jason'][1] + 5\n",
    "print('Updated value of df: %d' % df['Jason'][1])\n",
    "print('Updated value of reference_to_df: %d\\n' % reference_to_df['Jason'][1])\n",
    "\n",
    "\n",
    "# Create a true copy of dataframe:\n",
    "copy_of_df = df.copy()\n",
    "print('Original dataframe:\\n', df)\n",
    "print('Starting value of df: %d' % df['Jason'][1])\n",
    "print('Starting value of reference_to_df: %d\\n' % copy_of_df['Jason'][1])\n",
    "\n",
    "# Make some modifications:\n",
    "df.at[1, 'Jason'] = df['Jason'][1] + 5\n",
    "print('Updated value of df: %d' % df['Jason'][1])\n",
    "print('Updated value of reference_to_df: %d\\n' % copy_of_df['Jason'][1])\n"
   ]
  }
 ],
 "metadata": {
  "kernelspec": {
   "display_name": "base",
   "language": "python",
   "name": "python3"
  },
  "language_info": {
   "codemirror_mode": {
    "name": "ipython",
    "version": 3
   },
   "file_extension": ".py",
   "mimetype": "text/x-python",
   "name": "python",
   "nbconvert_exporter": "python",
   "pygments_lexer": "ipython3",
   "version": "3.9.13"
  },
  "orig_nbformat": 4,
  "vscode": {
   "interpreter": {
    "hash": "c4b873e07bceb12c2b9a42b36e7722015039dfeed477cfe3ebf1d2c97eb81cf7"
   }
  }
 },
 "nbformat": 4,
 "nbformat_minor": 2
}
