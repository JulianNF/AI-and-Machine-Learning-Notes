{
 "cells": [
  {
   "attachments": {},
   "cell_type": "markdown",
   "metadata": {},
   "source": [
    "# Machine Learning with Tensor and Python\n",
    "\n",
    "These are JulianNF's notes from following [freecodecamp's online Machine Learning with Python certification](https://www.freecodecamp.org/learn/machine-learning-with-python), and supplemented by [Google's Tensorflow documentation](https://www.tensorflow.org/guide/tensor)\n",
    "\n",
    "Feel free to benefit from them if you're studying on your own.\n",
    "\n",
    "---\n"
   ]
  },
  {
   "attachments": {},
   "cell_type": "markdown",
   "metadata": {},
   "source": [
    "# Settings up in Windows\n",
    "\n",
    "Getting tensorflow set up in VSCode (Windows machines) can be a bit more complicated than expected. We first need to get Anaconda installed:\n",
    "\n",
    "1. Download the [Anaconda installer](https://www.anaconda.com/)\n",
    "2. Run the installer\n",
    "3. Open the Anaconda command prompt app from the start menu\n",
    "4. Run `conda init powershell` to make the `conda` command present in the Powershell CLI\n",
    "    - NB: You may need to also add the conda install folder to your PATHs. To do so, call `where conda` in the conda prompt to find the install location. Add the parent folder to your PATHs\n",
    "5. (restart VSCode if it was already open)\n",
    "6. Check that conda is now available in the VSCode Powershell terminal by calling `conda --version`\n",
    "7. Install tensorflow with `conda install tensorflow`\n",
    "8. Select the anaconda python interpreter for your file\n",
    "    - If you're using a Jupyter notebook, you'll probably also need to set your cell kernel to your anaconda's Python.\n"
   ]
  }
 ],
 "metadata": {
  "kernelspec": {
   "display_name": "base",
   "language": "python",
   "name": "python3"
  },
  "language_info": {
   "codemirror_mode": {
    "name": "ipython",
    "version": 3
   },
   "file_extension": ".py",
   "mimetype": "text/x-python",
   "name": "python",
   "nbconvert_exporter": "python",
   "pygments_lexer": "ipython3",
   "version": "3.9.13 (main, Aug 25 2022, 23:51:50) [MSC v.1916 64 bit (AMD64)]"
  },
  "orig_nbformat": 4,
  "vscode": {
   "interpreter": {
    "hash": "c4b873e07bceb12c2b9a42b36e7722015039dfeed477cfe3ebf1d2c97eb81cf7"
   }
  }
 },
 "nbformat": 4,
 "nbformat_minor": 2
}
