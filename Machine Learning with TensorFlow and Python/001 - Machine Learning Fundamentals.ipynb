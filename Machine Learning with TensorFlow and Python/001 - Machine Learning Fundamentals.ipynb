{
 "cells": [
  {
   "attachments": {},
   "cell_type": "markdown",
   "metadata": {},
   "source": [
    "# Machine Learning with Tensor and Python\n",
    "\n",
    "These are JulianNF's notes from following [freecodecamp's online Machine Learning with Python certification](https://www.freecodecamp.org/learn/machine-learning-with-python), and supplemented by [Google's Tensorflow documentation](https://www.tensorflow.org/guide/tensor)\n",
    "\n",
    "Feel free to benefit from them if you're studying on your own.\n",
    "\n",
    "---"
   ]
  },
  {
   "attachments": {},
   "cell_type": "markdown",
   "metadata": {},
   "source": [
    "# Intro to AI\n",
    "\n",
    "**Artificial intelligence** (AI) is intelligence—perceiving, synthesizing, and inferring information—demonstrated by machines, as opposed to intelligence displayed by non-human animals and humans\n",
    "\n",
    "Basically, automations that perform intellectual tasks\n",
    "\n",
    "**Machine learning** is a subset of AI, where a ML model figures out “the rules” for solving a problem itself, without us telling it exactly what to do.\n",
    "\n",
    "**Deep Learning / Neural Networks** is a further subset of machine learning. Though \"inspired\" by human thinking, it is not modeled after the human brain.\n",
    "\n",
    "Neural networks have multiple layers, and are sometimes referred to as, “a multistage information extraction process”. In other words, input data is processed into “new” data by the algorithms, and this \"new\" data is then processed into further “new” data, and so and so forth until an output is provided.\n",
    "\n",
    "## Data is critical for AI\n",
    "\n",
    "The data used must provide both:\n",
    "\n",
    "-   Quality\n",
    "-   Quantity\n",
    "\n",
    "For machine learning, data is structured as follows:\n",
    "\n",
    "-   “features” are the input data\n",
    "-   “labels” are the result / (expected) output\n",
    "\n",
    "| feature | feature | ... | feature | label |\n",
    "| ------- | ------- | --- | ------- | ----- |\n"
   ]
  }
 ],
 "metadata": {
  "kernelspec": {
   "display_name": "base",
   "language": "python",
   "name": "python3"
  },
  "language_info": {
   "codemirror_mode": {
    "name": "ipython",
    "version": 3
   },
   "file_extension": ".py",
   "mimetype": "text/x-python",
   "name": "python",
   "nbconvert_exporter": "python",
   "pygments_lexer": "ipython3",
   "version": "3.9.13 (main, Aug 25 2022, 23:51:50) [MSC v.1916 64 bit (AMD64)]"
  },
  "orig_nbformat": 4,
  "vscode": {
   "interpreter": {
    "hash": "c4b873e07bceb12c2b9a42b36e7722015039dfeed477cfe3ebf1d2c97eb81cf7"
   }
  }
 },
 "nbformat": 4,
 "nbformat_minor": 2
}
