{
	"cells": [
		{
			"attachments": {},
			"cell_type": "markdown",
			"metadata": {},
			"source": [
				"Machine Learning with Tensor and Python\n",
				"===\n",
				"\n",
				"These are JulianNF's notes from following [freecodecamp's online Machine Learning with Python certification](https://www.freecodecamp.org/learn/machine-learning-with-python), and supplemented by [Google's Tensorflow documentation](https://www.tensorflow.org/guide/tensor)\n",
				"\n",
				"Feel free to benefit from them if you're studying on your own.\n",
				"\n",
				"---"
			]
		},
		{
			"cell_type": "code",
			"execution_count": 1,
			"metadata": {},
			"outputs": [
				{
					"name": "stdout",
					"output_type": "stream",
					"text": [
						"Note: you may need to restart the kernel to use updated packages.\n"
					]
				},
				{
					"name": "stderr",
					"output_type": "stream",
					"text": [
						"UsageError: Line magic function `%tensorflow_version` not found.\n"
					]
				}
			],
			"source": [
				"# Required in notebook:\n",
				"%pip install -q sklearn\n",
				"%tensorflow_version 2.x"
			]
		},
		{
			"cell_type": "code",
			"execution_count": 25,
			"metadata": {},
			"outputs": [],
			"source": [
				"from __future__ import absolute_import, division, print_function, unicode_literals\n",
				"import numpy as np # library for handling arrays better\n",
				"import pandas as pd # library for data manipulation\n",
				"import matplotlib.pyplot as plt # library for graphing\n",
				"\n",
				"import tensorflow as tf"
			]
		},
		{
			"attachments": {},
			"cell_type": "markdown",
			"metadata": {},
			"source": [
				"## Prepping our datasets for math\n",
				"In order to use our data, we need to make sure that all of our values within it are numeric, so that we can apply math to them. To do this, we can encode non-numeric values (e.g. male = 0, female = 1).\n",
				"\n",
				"There are two types of data:\n",
				"1. **Categorical** Columns\n",
				"\t- These columns have non-numerical data. In the case of the Titanic datasets that we're working with, some examples include sex, class, and deck.\n",
				"\t- Will have a limited set of possible values (n <= N) (aka \"categories\") such as:\n",
				"\t\t- male, female\n",
				"\t\t- Queenstown, Cherbourg, Southampton, unknown\n",
				"\t\t- first class, second class, third class\n",
				"2. **Numeric** Columns\n",
				"\t- These columnds are already numerical.\n",
				"\n",
				"Feature columns are a tool in TensorFlow that allows us to define what the feature columns 😋 are in the dataset, and what they can look like."
			]
		},
		{
			"cell_type": "code",
			"execution_count": 26,
			"metadata": {},
			"outputs": [
				{
					"name": "stdout",
					"output_type": "stream",
					"text": [
						"[VocabularyListCategoricalColumn(key='sex', vocabulary_list=('male', 'female'), dtype=tf.string, default_value=-1, num_oov_buckets=0), VocabularyListCategoricalColumn(key='n_siblings_spouses', vocabulary_list=(1, 0, 3, 4, 2, 5, 8), dtype=tf.int64, default_value=-1, num_oov_buckets=0), VocabularyListCategoricalColumn(key='parch', vocabulary_list=(0, 1, 2, 5, 3, 4), dtype=tf.int64, default_value=-1, num_oov_buckets=0), VocabularyListCategoricalColumn(key='class', vocabulary_list=('Third', 'First', 'Second'), dtype=tf.string, default_value=-1, num_oov_buckets=0), VocabularyListCategoricalColumn(key='deck', vocabulary_list=('unknown', 'C', 'G', 'A', 'B', 'D', 'F', 'E'), dtype=tf.string, default_value=-1, num_oov_buckets=0), VocabularyListCategoricalColumn(key='embark_town', vocabulary_list=('Southampton', 'Cherbourg', 'Queenstown', 'unknown'), dtype=tf.string, default_value=-1, num_oov_buckets=0), VocabularyListCategoricalColumn(key='alone', vocabulary_list=('n', 'y'), dtype=tf.string, default_value=-1, num_oov_buckets=0), NumericColumn(key='age', shape=(1,), default_value=None, dtype=tf.float32, normalizer_fn=None), NumericColumn(key='fare', shape=(1,), default_value=None, dtype=tf.float32, normalizer_fn=None)]\n"
					]
				}
			],
			"source": [
				"training_dataframe = pd.read_csv(\n",
				"\t'https://storage.googleapis.com/tf-datasets/titanic/train.csv')\n",
				"testing_dataframe = pd.read_csv(\n",
				"\t'https://storage.googleapis.com/tf-datasets/titanic/eval.csv')\n",
				"\n",
				"training_survived = training_dataframe.pop('survived')\n",
				"testing_survived = testing_dataframe.pop('survived')\n",
				"\n",
				"categorical_columns = [\n",
				"\t'sex',\n",
				"\t'n_siblings_spouses',\n",
				"\t'parch',\n",
				"\t'class',\n",
				"\t'deck',\n",
				"\t'embark_town',\n",
				"\t'alone'\n",
				"]\n",
				"\n",
				"numeric_columns = [\n",
				"\t'age',\n",
				"\t'fare'\n",
				"]\n",
				"\n",
				"feature_columns = []\n",
				"\n",
				"for feature_name in categorical_columns:\n",
				"\tvocabulary = training_dataframe[feature_name].unique() # get all unique possible values (aka categories) in the given column\n",
				"\tfeature_columns.append(\n",
				"\t\ttf.feature_column.categorical_column_with_vocabulary_list(feature_name, vocabulary)\n",
				"\t)\n",
				"\n",
				"for feature_name in numeric_columns:\n",
				"\tfeature_columns.append(\n",
				"\t\ttf.feature_column.numeric_column(feature_name, dtype=tf.float32)\n",
				"\t)\n",
				"print(feature_columns)\n"
			]
		}
	],
	"metadata": {
		"kernelspec": {
			"display_name": "base",
			"language": "python",
			"name": "python3"
		},
		"language_info": {
			"codemirror_mode": {
				"name": "ipython",
				"version": 3
			},
			"file_extension": ".py",
			"mimetype": "text/x-python",
			"name": "python",
			"nbconvert_exporter": "python",
			"pygments_lexer": "ipython3",
			"version": "3.9.13 (main, Aug 25 2022, 23:51:50) [MSC v.1916 64 bit (AMD64)]"
		},
		"orig_nbformat": 4,
		"vscode": {
			"interpreter": {
				"hash": "c4b873e07bceb12c2b9a42b36e7722015039dfeed477cfe3ebf1d2c97eb81cf7"
			}
		}
	},
	"nbformat": 4,
	"nbformat_minor": 2
}
