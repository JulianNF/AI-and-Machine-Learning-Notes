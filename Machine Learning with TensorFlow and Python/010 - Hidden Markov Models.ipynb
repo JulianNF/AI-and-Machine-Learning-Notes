{
 "cells": [
  {
   "attachments": {},
   "cell_type": "markdown",
   "metadata": {},
   "source": [
    "Machine Learning with Tensor and Python\n",
    "===\n",
    "\n",
    "These are JulianNF's notes from following [freecodecamp's online Machine Learning with Python certification](https://www.freecodecamp.org/learn/machine-learning-with-python), and supplemented by [Google's Tensorflow documentation](https://www.tensorflow.org/guide/tensor)\n",
    "\n",
    "Feel free to benefit from them if you're studying on your own.\n",
    "\n",
    "---"
   ]
  },
  {
   "attachments": {},
   "cell_type": "markdown",
   "metadata": {},
   "source": [
    "# Hidden Markov Models\n",
    "\n",
    "\"The Hidden Markov Model is a finite set of states, each of which is associated with a (generally multidimensional) **probability distribution**. Transitions among the states are governed by a set of probabilities called **transition probabilities**.\"\n",
    "\n",
    "With these probabilities, it predicts future events or states. In this section we'll learn how to create a Hidden Markov Model that can predict the weather ☀️⛈️⛅🌤️🌦️🌪️."
   ]
  },
  {
   "attachments": {},
   "cell_type": "markdown",
   "metadata": {},
   "source": [
    "### States\n",
    "For Hidden Markov Models, we work with **states**. We first define a number of possible states, for example:\n",
    "- warm and cold\n",
    "- high and low\n",
    "- red, green, and blue\n",
    "\n",
    "The model will be able to make a prediction, but the states are *hidden* within the model, which is to say that we don't directly interact/observe them. **We don't really care about the state in particular, we care about the observations we get from that state.**"
   ]
  },
  {
   "attachments": {},
   "cell_type": "markdown",
   "metadata": {},
   "source": [
    "### Observations\n",
    "Each state has a particular outcome or observation associated with it based on a probability distribution.  For example: \"On a hot day, Tim has an 80% chance (w/ min, max, SD, etc) of being happe and a 20% (w/ min, max, SD, etc) of being sad.\""
   ]
  },
  {
   "attachments": {},
   "cell_type": "markdown",
   "metadata": {},
   "source": [
    "### Transitions\n",
    "Each sate will have a probability defining the likelyhood of transition to a different state. For example, \"A cold day has a 30% change of being followed by a hot day, and a0% chance of being followed by another cold day.\""
   ]
  }
 ],
 "metadata": {
  "kernelspec": {
   "display_name": "base",
   "language": "python",
   "name": "python3"
  },
  "language_info": {
   "codemirror_mode": {
    "name": "ipython",
    "version": 3
   },
   "file_extension": ".py",
   "mimetype": "text/x-python",
   "name": "python",
   "nbconvert_exporter": "python",
   "pygments_lexer": "ipython3",
   "version": "3.9.13 (main, Aug 25 2022, 23:51:50) [MSC v.1916 64 bit (AMD64)]"
  },
  "orig_nbformat": 4,
  "vscode": {
   "interpreter": {
    "hash": "c4b873e07bceb12c2b9a42b36e7722015039dfeed477cfe3ebf1d2c97eb81cf7"
   }
  }
 },
 "nbformat": 4,
 "nbformat_minor": 2
}
