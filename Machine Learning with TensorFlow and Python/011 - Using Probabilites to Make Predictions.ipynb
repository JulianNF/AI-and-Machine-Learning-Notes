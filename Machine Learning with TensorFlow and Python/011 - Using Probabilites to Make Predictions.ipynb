{
 "cells": [
  {
   "attachments": {},
   "cell_type": "markdown",
   "metadata": {},
   "source": [
    "Machine Learning with Tensor and Python\n",
    "===\n",
    "\n",
    "These are JulianNF's notes from following [freecodecamp's online Machine Learning with Python certification](https://www.freecodecamp.org/learn/machine-learning-with-python), and supplemented by [Google's Tensorflow documentation](https://www.tensorflow.org/guide/tensor)\n",
    "\n",
    "Feel free to benefit from them if you're studying on your own.\n",
    "\n",
    "---"
   ]
  },
  {
   "attachments": {},
   "cell_type": "markdown",
   "metadata": {},
   "source": [
    "# Predicting the weather with Hidden Markov Models\n",
    "Using the [TensorFlow example here](http://www.tensorflow.org/probability/api_docs/python/tfp/distributions/HiddenMarkovModel\n",
    "), we'll be modeling a simple weather model to predict the temperature on each day given the following information:\n",
    "- cold days are encoded as 0, hot days as 1\n",
    "- the first day has an 80% of being cold\n",
    "- a cold day has a 30% change of being followed by a hot day\n",
    "- a hot day has a 20% chance of being followed by a cold day\n",
    "- on each day, the temperature is normally distributed,\n",
    "\t- with mean and SD 0 and 5 on a cold day\n",
    "\t- with mean and SD 15 and 10 on a hot day"
   ]
  },
  {
   "cell_type": "code",
   "execution_count": 13,
   "metadata": {},
   "outputs": [],
   "source": [
    "import tensorflow as tf\n",
    "# NB: If you're getting a \"No module found\" error when running this code block, you may need to install tensorflow_probability. To do this, use the following command in the terminal: `conda install tensorflow-probability`\n",
    "import tensorflow_probability as tfp"
   ]
  },
  {
   "attachments": {},
   "cell_type": "markdown",
   "metadata": {},
   "source": [
    "## Creating our data using the TensorFlow Proability Module"
   ]
  },
  {
   "cell_type": "code",
   "execution_count": 17,
   "metadata": {},
   "outputs": [],
   "source": [
    "tfd = tfp.distributions\n",
    "\n",
    "initial_distribution = tfd.Categorical(\n",
    "    probs=[\n",
    "        0.8,\n",
    "        0.2\n",
    "    ]\n",
    ")\n",
    "transition_distribution = tfd.Categorical(\n",
    "    probs=[\n",
    "        [0.7, 0.3],\n",
    "        [0.2, 0.8]\n",
    "    ]\n",
    ")\n",
    "observation_distribution = tfd.Normal(\n",
    "    loc=[0., 15.], # mean, adding a dot makes it a float instead of an int\n",
    "    scale=[5., 10.]  # SD, adding a dot makes it a float instead of an int\n",
    ")\n"
   ]
  },
  {
   "attachments": {},
   "cell_type": "markdown",
   "metadata": {},
   "source": [
    "## Creating our Hidden Markov Model"
   ]
  },
  {
   "cell_type": "code",
   "execution_count": 24,
   "metadata": {},
   "outputs": [
    {
     "name": "stdout",
     "output_type": "stream",
     "text": [
      "tf.Tensor([3.        5.9999995 7.4999995 8.25      8.625001  8.812501  8.90625  ], shape=(7,), dtype=float32) \n",
      "\n",
      "\n"
     ]
    }
   ],
   "source": [
    "model = tfd.HiddenMarkovModel(\n",
    "\tinitial_distribution=initial_distribution,\n",
    "\ttransition_distribution=transition_distribution,\n",
    "\tobservation_distribution=observation_distribution,\n",
    "\tnum_steps=7\n",
    ")\n",
    "\n",
    "mean = model.mean()\n",
    "# Note that the values returned are the average for each of the 7 steps in our model. In other words, index 0 is the predicted temperature tomorrow, index 1 is the day 2 temperature prediction, etc. \n",
    "print(mean, '\\n\\n')\n"
   ]
  }
 ],
 "metadata": {
  "kernelspec": {
   "display_name": "base",
   "language": "python",
   "name": "python3"
  },
  "language_info": {
   "codemirror_mode": {
    "name": "ipython",
    "version": 3
   },
   "file_extension": ".py",
   "mimetype": "text/x-python",
   "name": "python",
   "nbconvert_exporter": "python",
   "pygments_lexer": "ipython3",
   "version": "3.9.13"
  },
  "orig_nbformat": 4,
  "vscode": {
   "interpreter": {
    "hash": "c4b873e07bceb12c2b9a42b36e7722015039dfeed477cfe3ebf1d2c97eb81cf7"
   }
  }
 },
 "nbformat": 4,
 "nbformat_minor": 2
}
