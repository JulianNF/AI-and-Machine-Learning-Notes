{
 "cells": [
  {
   "attachments": {},
   "cell_type": "markdown",
   "metadata": {},
   "source": [
    "# Python Review\n"
   ]
  },
  {
   "attachments": {},
   "cell_type": "markdown",
   "metadata": {},
   "source": [
    "## Functions\n"
   ]
  },
  {
   "cell_type": "code",
   "execution_count": 18,
   "metadata": {},
   "outputs": [
    {
     "name": "stdout",
     "output_type": "stream",
     "text": [
      "a is: 0\n",
      "b is: 1\n",
      "0\n",
      "1\n",
      "1\n",
      "2\n",
      "3\n",
      "5\n",
      "8\n",
      "13\n",
      "21\n",
      "34\n",
      "55\n",
      "89\n",
      "144\n",
      "233\n",
      "377\n",
      "610\n",
      "987\n",
      "1597\n"
     ]
    }
   ],
   "source": [
    "def printFibonacciValuesUpTo(n):\n",
    "    a, b = 0, 1\n",
    "    while a < n:\n",
    "        print(a, end='\\n')\n",
    "        b = a + b\n",
    "        a = b - a\n",
    "\n",
    "\n",
    "printFibonacciValuesUpTo(2000)\n"
   ]
  },
  {
   "cell_type": "code",
   "execution_count": 21,
   "metadata": {},
   "outputs": [
    {
     "data": {
      "text/plain": [
       "[0, 1, 1, 2, 3, 5, 8, 13, 21, 34, 55, 89, 144, 233, 377, 610, 987, 1597]"
      ]
     },
     "execution_count": 21,
     "metadata": {},
     "output_type": "execute_result"
    }
   ],
   "source": [
    "def returnFibonacciValuesUpTo(n):\n",
    "    result = []\n",
    "    a, b = 0, 1\n",
    "    while a < n:\n",
    "        result.append(a)\n",
    "        b = a + b\n",
    "        a = b - a\n",
    "    return result\n",
    "\n",
    "\n",
    "returnFibonacciValuesUpTo(2000)\n"
   ]
  },
  {
   "attachments": {},
   "cell_type": "markdown",
   "metadata": {},
   "source": [
    "Here's a function with default values:\n"
   ]
  },
  {
   "cell_type": "code",
   "execution_count": 109,
   "metadata": {},
   "outputs": [
    {
     "data": {
      "text/plain": [
       "False"
      ]
     },
     "execution_count": 109,
     "metadata": {},
     "output_type": "execute_result"
    }
   ],
   "source": [
    "def ask_ok(prompt, retries=4, reminder='Please try again!'):\n",
    "    while True:\n",
    "        ok = input(prompt)\n",
    "        if ok in ('y', 'ye', 'yes'):\n",
    "            return True\n",
    "        if ok in ('n', 'no', 'nop', 'nope'):\n",
    "            return False\n",
    "        retries -= 1\n",
    "        if retries < 0:\n",
    "            raise ValueError('invalid user response')\n",
    "        print(reminder)\n",
    "\n",
    "\n",
    "ask_ok('Say yes or no')\n",
    "# ask_ok('Go ahead?', 2, \"It's a yes or no question\")\n"
   ]
  },
  {
   "attachments": {},
   "cell_type": "markdown",
   "metadata": {},
   "source": [
    "⚠️ When working with default values as function arguments, it's important to remember that the default value is evaluated only once. Be careful when using mutable objects such as lists, dictionaries, or instances of most classes as the default value of a function.\n"
   ]
  },
  {
   "cell_type": "code",
   "execution_count": 26,
   "metadata": {},
   "outputs": [
    {
     "name": "stdout",
     "output_type": "stream",
     "text": [
      "[1]\n",
      "[1, 2]\n",
      "[1, 2, 3]\n"
     ]
    }
   ],
   "source": [
    "def mutableDefaultValueFunction(a, list=[]):\n",
    "    list.append(a)\n",
    "    return list\n",
    "\n",
    "\n",
    "print(mutableDefaultValueFunction(1))\n",
    "print(mutableDefaultValueFunction(2))\n",
    "print(mutableDefaultValueFunction(3))\n"
   ]
  },
  {
   "attachments": {},
   "cell_type": "markdown",
   "metadata": {},
   "source": [
    "You can work around such an issue with...\n"
   ]
  },
  {
   "cell_type": "code",
   "execution_count": 34,
   "metadata": {},
   "outputs": [
    {
     "name": "stdout",
     "output_type": "stream",
     "text": [
      "[1]\n",
      "[2]\n",
      "[3]\n",
      "[1, 2, 3]\n",
      "[1, 2, 3]\n"
     ]
    }
   ],
   "source": [
    "def anotherMutableDefaultValue(a, list=None) -> list:\n",
    "    if list is None:\n",
    "        list = []\n",
    "    list.append(a)\n",
    "    return list\n",
    "\n",
    "\n",
    "print(anotherMutableDefaultValue(1))\n",
    "print(anotherMutableDefaultValue(2))\n",
    "print(anotherMutableDefaultValue(3))\n",
    "print(anotherMutableDefaultValue(3, [1, 2]))\n",
    "print(anotherMutableDefaultValue(3, list=[1, 2]))\n"
   ]
  },
  {
   "attachments": {},
   "cell_type": "markdown",
   "metadata": {},
   "source": [
    "### Lambda (anonymous) functions\n",
    "Anonymous functions.\n",
    "\n",
    "According to [Python docs](https://docs.python.org/3/faq/design.html#why-can-t-lambda-expressions-contain-statements), \"Unlike lambda forms in other languages, where they add functionality, Python lambdas are only a shorthand notation if you’re too lazy to define a function.\"\n",
    "\n",
    "Lambdas in Python can't contain any statements such as `return`, `assert`, `pass`, or `raise`."
   ]
  },
  {
   "cell_type": "code",
   "execution_count": 10,
   "metadata": {},
   "outputs": [
    {
     "name": "stdout",
     "output_type": "stream",
     "text": [
      "[0, 1, 4, 9, 16, 25, 36, 49, 64, 81, 100]\n",
      "[0, 2, 4, 6, 8, 10]\n"
     ]
    },
    {
     "data": {
      "text/plain": [
       "20"
      ]
     },
     "execution_count": 10,
     "metadata": {},
     "output_type": "execute_result"
    }
   ],
   "source": [
    "# Immediately invoked function:\n",
    "(lambda x: x * x)(3)\n",
    "\n",
    "# Anonymous function within method:\n",
    "squares = list(\n",
    "\tmap(\n",
    "\t\tlambda x: x**2,\n",
    "\t\trange(11)\n",
    "\t)\n",
    ")\n",
    "print(squares)\n",
    "\n",
    "# Anonymous function within method, where the lambda has been assigned to a variable:\n",
    "evenNumberFilter = lambda x: x%2 ==0\n",
    "evens = list(\n",
    "\tfilter(\n",
    "\t\tevenNumberFilter,\n",
    "\t\trange(11)\n",
    "\t)\n",
    ")\n",
    "print(evens)\n",
    "\n",
    "# lambda with multiple arguments:\n",
    "(lambda a, b: a * b)(4, 5)\n"
   ]
  },
  {
   "attachments": {},
   "cell_type": "markdown",
   "metadata": {},
   "source": [
    "## Dictionaries\n",
    "\n",
    "-   Dictionaries are key-value pairs.\n",
    "    -   Keys can be any immutable type.\n",
    "    -   Keys in a dictionary must be unique.\n"
   ]
  },
  {
   "cell_type": "code",
   "execution_count": 50,
   "metadata": {},
   "outputs": [
    {
     "data": {
      "text/plain": [
       "{'steve': 'Canada', 'anne': 'USA', 'pete': 'Singapore'}"
      ]
     },
     "execution_count": 50,
     "metadata": {},
     "output_type": "execute_result"
    }
   ],
   "source": [
    "telephones = {\n",
    "    'steve': 12456,\n",
    "    'sam': 456789,\n",
    "    'anne': 789123\n",
    "}\n",
    "\n",
    "telephones['corinne'] = 147852\n",
    "\n",
    "del telephones['steve']\n",
    "\n",
    "list(telephones)\n",
    "\n",
    "sorted(telephones)\n",
    "\n",
    "'steve' in telephones\n",
    "\n",
    "emails = dict([('james', 'james@1234.com'), ('dave', 'dave@internet.net')])\n",
    "emails\n",
    "\n",
    "countries = dict(\n",
    "    steve='Canada',\n",
    "    anne='USA',\n",
    "    pete='Singapore'\n",
    ")\n",
    "countries\n"
   ]
  },
  {
   "attachments": {},
   "cell_type": "markdown",
   "metadata": {},
   "source": [
    "## Lists\n",
    "\n",
    "Lists are arrays\n"
   ]
  },
  {
   "cell_type": "code",
   "execution_count": 65,
   "metadata": {},
   "outputs": [
    {
     "data": {
      "text/plain": [
       "[1, 4, 9999, 16, 36, 49, 81, 100, 121]"
      ]
     },
     "execution_count": 65,
     "metadata": {},
     "output_type": "execute_result"
    }
   ],
   "source": [
    "squares = [1, 4, 9, 16]\n",
    "squares\n",
    "\n",
    "squares[2]\n",
    "squares[-3]\n",
    "squares[-3:]\n",
    "\n",
    "squares + [36, 49, 81, 100]\n",
    "squares += [36, 49, 81, 100]\n",
    "squares\n",
    "\n",
    "squares[2] = 9999\n",
    "squares\n",
    "\n",
    "squares.append(121)\n",
    "squares\n"
   ]
  },
  {
   "cell_type": "code",
   "execution_count": 71,
   "metadata": {},
   "outputs": [
    {
     "data": {
      "text/plain": [
       "[]"
      ]
     },
     "execution_count": 71,
     "metadata": {},
     "output_type": "execute_result"
    }
   ],
   "source": [
    "letters = ['a', 'b', 'c', 'd', 'e', 'f']\n",
    "letters\n",
    "\n",
    "letters[2:5] = ['C', 'D', 'E']\n",
    "letters\n",
    "\n",
    "letters[0:2] = []\n",
    "letters\n",
    "\n",
    "letters[:] = []\n",
    "letters\n"
   ]
  },
  {
   "attachments": {},
   "cell_type": "markdown",
   "metadata": {},
   "source": [
    "Lists can also be generated from functions (aka \"list comprehension\"):\n"
   ]
  },
  {
   "cell_type": "code",
   "execution_count": 114,
   "metadata": {},
   "outputs": [
    {
     "name": "stdout",
     "output_type": "stream",
     "text": [
      "[0, 1, 2, 3, 4, 5, 6, 7, 8, 9, 10]\n",
      "10\n"
     ]
    }
   ],
   "source": [
    "list = {x for x in range(1, 11)}\n",
    "list\n",
    "\n",
    "integers = []\n",
    "for int in range(11):\n",
    "\tintegers.append(int)\n",
    "print(integers)\n",
    "\n",
    "# Note how the int variable of the for loop still exists after the loop finishes:\n",
    "print(int)"
   ]
  },
  {
   "attachments": {},
   "cell_type": "markdown",
   "metadata": {},
   "source": [
    "🔎 Note how `range()` will:\n",
    "\n",
    "-   return a zero-indexed range if only one value is passed\n",
    "-   return a range that does NOT include the last end-value argument\n"
   ]
  },
  {
   "cell_type": "code",
   "execution_count": 95,
   "metadata": {},
   "outputs": [
    {
     "name": "stdout",
     "output_type": "stream",
     "text": [
      "0\n",
      "1\n",
      "2\n",
      "3\n",
      "4\n"
     ]
    }
   ],
   "source": [
    "for i in range(5):\n",
    "    print(i)\n"
   ]
  },
  {
   "attachments": {},
   "cell_type": "markdown",
   "metadata": {},
   "source": [
    "## Sets\n",
    "\n",
    "Unordered collection with no duplicate items.\n",
    "\n",
    "-   uses include:\n",
    "    -   membership testing\n",
    "    -   eliminating duplicate entries\n",
    "-   support math operations like union, intersection, difference, and symmetric difference\n",
    "\n",
    "👀 To create an empty set, don't use `{}` as it will create an empty dictionary. Instead, use `set()`.\n"
   ]
  },
  {
   "cell_type": "code",
   "execution_count": 88,
   "metadata": {},
   "outputs": [
    {
     "data": {
      "text/plain": [
       "{'b', 'd', 'l', 'm', 'r', 'z'}"
      ]
     },
     "execution_count": 88,
     "metadata": {},
     "output_type": "execute_result"
    }
   ],
   "source": [
    "fruitBasket = {'apple', 'orange', 'banana', 'pear', 'orange', 'apple'}\n",
    "fruitBasket  # expect only one apple and one orange in the set\n",
    "\n",
    "'orange' in fruitBasket  # membership test\n",
    "'melon' in fruitBasket  # membership test\n",
    "\n",
    "# set is only the unique letters in the word\n",
    "lettersAbracadabra = set('abracadabra')\n",
    "lettersAbracadabra\n",
    "\n",
    "wordAlacazam = {'alacazam'}  # set is the whole word\n",
    "wordAlacazam\n",
    "\n",
    "lettersAlacazam = set('alacazam')\n",
    "lettersAlacazam\n",
    "\n",
    "# Letters in abracadabra, but not in alacazam:\n",
    "lettersAbracadabra - lettersAlacazam\n",
    "\n",
    "# Letters in abracadabra or in alacazam:\n",
    "lettersAbracadabra | lettersAlacazam\n",
    "\n",
    "# Letters in both abracadabra and alacazam:\n",
    "lettersAbracadabra & lettersAlacazam\n",
    "\n",
    "# Letters in abracadabra or alacazam, but not in both:\n",
    "lettersAbracadabra ^ lettersAlacazam\n"
   ]
  },
  {
   "attachments": {},
   "cell_type": "markdown",
   "metadata": {},
   "source": [
    "Sets can also be generated from functions:\n"
   ]
  },
  {
   "cell_type": "code",
   "execution_count": 90,
   "metadata": {},
   "outputs": [
    {
     "data": {
      "text/plain": [
       "{'d', 'r'}"
      ]
     },
     "execution_count": 90,
     "metadata": {},
     "output_type": "execute_result"
    }
   ],
   "source": [
    "setA = {x for x in 'abracadabra' if x not in 'abc'}\n",
    "setA\n"
   ]
  },
  {
   "attachments": {},
   "cell_type": "markdown",
   "metadata": {},
   "source": [
    "## Match Case\n",
    "\n",
    "`match` statements are case statements:\n"
   ]
  },
  {
   "cell_type": "code",
   "execution_count": 96,
   "metadata": {},
   "outputs": [
    {
     "ename": "SyntaxError",
     "evalue": "invalid syntax (4288183966.py, line 2)",
     "output_type": "error",
     "traceback": [
      "\u001b[1;36m  File \u001b[1;32m\"C:\\Users\\Julian\\AppData\\Local\\Temp\\ipykernel_13796\\4288183966.py\"\u001b[1;36m, line \u001b[1;32m2\u001b[0m\n\u001b[1;33m    match status:\u001b[0m\n\u001b[1;37m          ^\u001b[0m\n\u001b[1;31mSyntaxError\u001b[0m\u001b[1;31m:\u001b[0m invalid syntax\n"
     ]
    }
   ],
   "source": [
    "def http_error(status):\n",
    "    match status:\n",
    "        case 400:\n",
    "            return \"Bad request\"\n",
    "        case 404:\n",
    "            return \"Not found\"\n",
    "        case 418:\n",
    "            return \"I'm a teapot\"\n",
    "        case _:\n",
    "            return \"Something's wrong with the internet\"\n"
   ]
  },
  {
   "attachments": {},
   "cell_type": "markdown",
   "metadata": {},
   "source": [
    "## Syntactical words\n",
    "\n",
    "`break`, as in C, breaks out of the innermost enclosing `for` or `while` loop.\n",
    "\n",
    "`continue`, also from C, continues with (jumps to) the next iteration of the loop.\n",
    "\n",
    "`pass` does nothing, and is used syntactically when nothing should happen in the code, but leaving no code there would throw errors in compilation or runtime.\n"
   ]
  },
  {
   "attachments": {},
   "cell_type": "markdown",
   "metadata": {},
   "source": [
    "## Reading and Writing files\n",
    "\n",
    "`open()` returns a files obect. Positional arguments can be (and are usually) passed to the method:\n",
    "\n",
    "-   filename to use\n",
    "-   use mode:\n",
    "    -   w = writeable\n",
    "        -   overwrites existing file with same name\n",
    "    -   r = read-only\n",
    "    -   a = append-mode\n",
    "        -   any data added will be added to the end of the (existing) file\n",
    "    -   r+ = read-write mode\n",
    "-   encoding to use\n",
    "    -   don't leave it to chance, as folks work on different OS\n"
   ]
  },
  {
   "cell_type": "code",
   "execution_count": 97,
   "metadata": {},
   "outputs": [],
   "source": [
    "file = open('filename', 'w', encoding='utf-8')\n"
   ]
  },
  {
   "attachments": {},
   "cell_type": "markdown",
   "metadata": {},
   "source": [
    "It's good practice to use the `with` keyword when working with files. Once the `with` suite finished, the file will be properly closed.\n",
    "\n",
    "If you don't use `with`, then make sure to call `.close()` on the file object you created/opened.\n"
   ]
  },
  {
   "cell_type": "code",
   "execution_count": 100,
   "metadata": {},
   "outputs": [
    {
     "ename": "FileNotFoundError",
     "evalue": "[Errno 2] No such file or directory: 'anotherFile'",
     "output_type": "error",
     "traceback": [
      "\u001b[1;31m---------------------------------------------------------------------------\u001b[0m",
      "\u001b[1;31mFileNotFoundError\u001b[0m                         Traceback (most recent call last)",
      "\u001b[1;32m~\\AppData\\Local\\Temp\\ipykernel_13796\\178173142.py\u001b[0m in \u001b[0;36m<module>\u001b[1;34m\u001b[0m\n\u001b[1;32m----> 1\u001b[1;33m \u001b[1;32mwith\u001b[0m \u001b[0mopen\u001b[0m\u001b[1;33m(\u001b[0m\u001b[1;34m'anotherFile'\u001b[0m\u001b[1;33m,\u001b[0m \u001b[1;34m'r+'\u001b[0m\u001b[1;33m,\u001b[0m \u001b[0mencoding\u001b[0m\u001b[1;33m=\u001b[0m\u001b[1;34m'utf-8'\u001b[0m\u001b[1;33m)\u001b[0m \u001b[1;32mas\u001b[0m \u001b[0mnewFile\u001b[0m\u001b[1;33m:\u001b[0m\u001b[1;33m\u001b[0m\u001b[1;33m\u001b[0m\u001b[0m\n\u001b[0m\u001b[0;32m      2\u001b[0m         \u001b[0mfileData\u001b[0m \u001b[1;33m=\u001b[0m \u001b[0mnewFile\u001b[0m\u001b[1;33m.\u001b[0m\u001b[0mread\u001b[0m\u001b[1;33m(\u001b[0m\u001b[1;33m)\u001b[0m\u001b[1;33m\u001b[0m\u001b[1;33m\u001b[0m\u001b[0m\n\u001b[0;32m      3\u001b[0m \u001b[1;33m\u001b[0m\u001b[0m\n\u001b[0;32m      4\u001b[0m \u001b[1;31m# Check that file was actually closed automatically:\u001b[0m\u001b[1;33m\u001b[0m\u001b[1;33m\u001b[0m\u001b[0m\n\u001b[0;32m      5\u001b[0m \u001b[0mnewFile\u001b[0m\u001b[1;33m.\u001b[0m\u001b[0mclosed\u001b[0m \u001b[1;31m# should return True\u001b[0m\u001b[1;33m\u001b[0m\u001b[1;33m\u001b[0m\u001b[0m\n",
      "\u001b[1;31mFileNotFoundError\u001b[0m: [Errno 2] No such file or directory: 'anotherFile'"
     ]
    }
   ],
   "source": [
    "with open('anotherFile', 'r+', encoding='utf-8') as newFile:\n",
    "    fileData = newFile.read()\n",
    "\n",
    "# Check that file was actually closed automatically:\n",
    "newFile.closed  # should return True\n"
   ]
  },
  {
   "attachments": {},
   "cell_type": "markdown",
   "metadata": {},
   "source": [
    "The file object has a number of useful methods, some of which include:\n"
   ]
  },
  {
   "cell_type": "code",
   "execution_count": 102,
   "metadata": {},
   "outputs": [
    {
     "ename": "UnsupportedOperation",
     "evalue": "not readable",
     "output_type": "error",
     "traceback": [
      "\u001b[1;31m---------------------------------------------------------------------------\u001b[0m",
      "\u001b[1;31mUnsupportedOperation\u001b[0m                      Traceback (most recent call last)",
      "\u001b[1;32m~\\AppData\\Local\\Temp\\ipykernel_13796\\240933546.py\u001b[0m in \u001b[0;36m<module>\u001b[1;34m\u001b[0m\n\u001b[0;32m      1\u001b[0m \u001b[1;31m# Get all data in the file:\u001b[0m\u001b[1;33m\u001b[0m\u001b[1;33m\u001b[0m\u001b[0m\n\u001b[1;32m----> 2\u001b[1;33m \u001b[0mfileContents\u001b[0m \u001b[1;33m=\u001b[0m \u001b[0mfile\u001b[0m\u001b[1;33m.\u001b[0m\u001b[0mread\u001b[0m\u001b[1;33m(\u001b[0m\u001b[1;33m)\u001b[0m\u001b[1;33m\u001b[0m\u001b[1;33m\u001b[0m\u001b[0m\n\u001b[0m\u001b[0;32m      3\u001b[0m \u001b[1;33m\u001b[0m\u001b[0m\n\u001b[0;32m      4\u001b[0m \u001b[1;31m# Get a specific line in the file:\u001b[0m\u001b[1;33m\u001b[0m\u001b[1;33m\u001b[0m\u001b[0m\n\u001b[0;32m      5\u001b[0m \u001b[0mfourthLineOfFile\u001b[0m \u001b[1;33m=\u001b[0m \u001b[0mfile\u001b[0m\u001b[1;33m.\u001b[0m\u001b[0mreadline\u001b[0m\u001b[1;33m(\u001b[0m\u001b[1;36m4\u001b[0m\u001b[1;33m)\u001b[0m\u001b[1;33m\u001b[0m\u001b[1;33m\u001b[0m\u001b[0m\n",
      "\u001b[1;31mUnsupportedOperation\u001b[0m: not readable"
     ]
    }
   ],
   "source": [
    "# Get all data in the file:\n",
    "fileContents = file.read()\n",
    "\n",
    "# Get a specific line in the file:\n",
    "fourthLineOfFile = file.readline(4)\n",
    "\n",
    "# Write data to the file:\n",
    "file.write('blah blah blah')\n",
    "\n",
    "# Get current file object's current position, as bytes from start of file:\n",
    "file.tell()\n",
    "# Go to a specific byte (6th byte in this case) of the file:\n",
    "file.seek(6)\n"
   ]
  },
  {
   "attachments": {},
   "cell_type": "markdown",
   "metadata": {},
   "source": [
    "To work with JSON, import the JSON library and use its methods. Note that the JSON file you work with must be encoded in UTF-8.\n"
   ]
  },
  {
   "cell_type": "code",
   "execution_count": 103,
   "metadata": {},
   "outputs": [],
   "source": [
    "import json\n"
   ]
  },
  {
   "attachments": {},
   "cell_type": "markdown",
   "metadata": {},
   "source": [
    "## Math Operators\n"
   ]
  },
  {
   "cell_type": "code",
   "execution_count": 108,
   "metadata": {},
   "outputs": [
    {
     "name": "stdout",
     "output_type": "stream",
     "text": [
      "7\n",
      "3\n",
      "2.5\n",
      "1\n",
      "25\n"
     ]
    }
   ],
   "source": [
    "print(5+2)\n",
    "print(5-2)\n",
    "print(5/2)  # division always returns a float\n",
    "print(5 % 2)\n",
    "print(5**2)  # exponentiation\n"
   ]
  }
 ],
 "metadata": {
  "kernelspec": {
   "display_name": "base",
   "language": "python",
   "name": "python3"
  },
  "language_info": {
   "codemirror_mode": {
    "name": "ipython",
    "version": 3
   },
   "file_extension": ".py",
   "mimetype": "text/x-python",
   "name": "python",
   "nbconvert_exporter": "python",
   "pygments_lexer": "ipython3",
   "version": "3.9.13"
  },
  "orig_nbformat": 4,
  "vscode": {
   "interpreter": {
    "hash": "c4b873e07bceb12c2b9a42b36e7722015039dfeed477cfe3ebf1d2c97eb81cf7"
   }
  }
 },
 "nbformat": 4,
 "nbformat_minor": 2
}
