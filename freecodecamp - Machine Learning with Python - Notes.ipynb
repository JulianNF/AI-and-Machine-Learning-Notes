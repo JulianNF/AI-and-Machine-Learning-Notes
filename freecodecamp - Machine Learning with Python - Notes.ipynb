{
 "cells": [
  {
   "attachments": {},
   "cell_type": "markdown",
   "metadata": {},
   "source": [
    "# FreeCodeCamp - Machine Learning with Python\n",
    "\n",
    "These are JulianNF's notes from following the [online certification](https://www.freecodecamp.org/learn/machine-learning-with-python). Feel free to benefit from them if you're studying on your own.\n",
    "\n",
    "---\n"
   ]
  },
  {
   "attachments": {},
   "cell_type": "markdown",
   "metadata": {},
   "source": [
    "# Settings up in Windows\n",
    "\n",
    "Getting tensorflow set up in VSCode (Windows machines) can be a bit more complicated than expected. We first need to get Anaconda installed:\n",
    "\n",
    "1. Download the [Anaconda installer](https://www.anaconda.com/)\n",
    "2. Run the installer\n",
    "3. Open the Anaconda command prompt app from the start menu\n",
    "4. Run `conda init powershell` to make the `conda` command present in the Powershell CLI\n",
    "    - NB: You may need to also add the conda install folder to your PATHs. To do so, call `where conda` in the conda prompt to find the install location. Add the parent folder to your PATHs\n",
    "5. (restart VSCode if it was already open)\n",
    "6. Check that conda is now available in the VSCode Powershell terminal by calling `conda --version`\n",
    "7. Install tensorflow with `conda install tensorflow`\n",
    "8. Select the anaconda python interpreter for your file\n",
    "    - If you're using a Jupyter notebook, you'll probably also need to set your cell kernel to your anaconda's Python.\n"
   ]
  },
  {
   "cell_type": "code",
   "execution_count": 1,
   "metadata": {},
   "outputs": [],
   "source": [
    "import tensorflow as tf"
   ]
  },
  {
   "attachments": {},
   "cell_type": "markdown",
   "metadata": {},
   "source": [
    "# Intro to AI\n",
    "\n",
    "**Artificial intelligence** (AI) is intelligence—perceiving, synthesizing, and inferring information—demonstrated by machines, as opposed to intelligence displayed by non-human animals and humans\n",
    "\n",
    "Basically, automations that perform intellectual tasks\n",
    "\n",
    "**Machine learning** is a subset of AI, where a ML model figures out “the rules” for solving a problem itself, without us telling it exactly what to do.\n",
    "\n",
    "**Deep Learning / Neural Networks** is a further subset of machine learning. Though \"inspired\" by human thinking, it is not modeled after the human brain.\n",
    "\n",
    "Neural networks have multiple layers, and are sometimes referred to as, “a multistage information extraction process”. In other words, input data is processed into “new” data by the algorithms, and this \"new\" data is then processed into further “new” data, and so and so forth until an output is provided.\n",
    "\n",
    "## Data is critical for AI\n",
    "\n",
    "The data used must provide both:\n",
    "\n",
    "-   Quality\n",
    "-   Quantity\n",
    "\n",
    "For machine learning, data is structured as follows:\n",
    "\n",
    "-   “features” are the input data\n",
    "-   “labels” are the result / (expected) output\n",
    "\n",
    "| feature | feature | ... | feature | label |\n",
    "| ------- | ------- | --- | ------- | ----- |\n"
   ]
  },
  {
   "attachments": {},
   "cell_type": "markdown",
   "metadata": {},
   "source": [
    "# Intro to tensors in TensorFlow\n",
    "\n",
    "A tensor is, “**A generalization of vectors and matrices to potentially higher dimensions**”\n",
    "\n",
    "Why a vector? --> Because it can have lots of “dimensions”, each dimension being an additional related value.\n",
    "\n",
    "In tensorflow, tensors are represented as n-dimensional arrays of base datatypes. Each tensor represents a partially defined computation that will eventually produce a value.\n",
    "\n",
    "Each tensor has a certain \"dimensionality\", which reflects its complexity. The number of dimensions of a tensor is defined by its **rank** (aka **degree**). A tensor with one value has a rank/degree of zero (0), and is also called a “scalar”. For example:\n"
   ]
  },
  {
   "cell_type": "code",
   "execution_count": 4,
   "metadata": {},
   "outputs": [],
   "source": [
    "stringTensor = tf.Variable(\"this is a string\", tf.string)\n",
    "numberTensor = tf.Variable(124, tf.int16)\n",
    "floatTensor = tf.Variable(3.456, tf.float64)\n"
   ]
  },
  {
   "attachments": {},
   "cell_type": "markdown",
   "metadata": {},
   "source": [
    "We can **determine the rank/degree of any tensor with**...\n"
   ]
  },
  {
   "cell_type": "code",
   "execution_count": 5,
   "metadata": {},
   "outputs": [
    {
     "data": {
      "text/plain": [
       "<tf.Tensor: shape=(), dtype=int32, numpy=0>"
      ]
     },
     "execution_count": 5,
     "metadata": {},
     "output_type": "execute_result"
    }
   ],
   "source": [
    "tf.rank(stringTensor)\n"
   ]
  },
  {
   "attachments": {},
   "cell_type": "markdown",
   "metadata": {},
   "source": [
    "... and see that numpy reports a rank/degree of 0 for our scalar tensors.\n",
    "\n",
    "Tensors with more than one dimension/rank/degree are known as vectors. For each nested layer, the tensor 'gains' one rank.\n"
   ]
  },
  {
   "cell_type": "code",
   "execution_count": 22,
   "metadata": {},
   "outputs": [
    {
     "data": {
      "text/plain": [
       "<tf.Tensor: shape=(), dtype=int32, numpy=2>"
      ]
     },
     "execution_count": 22,
     "metadata": {},
     "output_type": "execute_result"
    }
   ],
   "source": [
    "tensorWithRank1 = tf.Variable(\n",
    "    [\"Test\", \"Ok\", \"Tim\"],\n",
    "    tf.string\n",
    ")\n",
    "tensorWithRank2 = tf.Variable(\n",
    "    [\n",
    "        [\"test\", \"ok\"],\n",
    "        [\"test\", \"yes\"],\n",
    "        [\"3rd\", \"element\"],\n",
    "    ],\n",
    "    tf.string\n",
    ")\n",
    "\n",
    "# expect numpy = 2 because tensor has a list within a list\n",
    "tf.rank(tensorWithRank2)\n"
   ]
  },
  {
   "attachments": {},
   "cell_type": "markdown",
   "metadata": {},
   "source": [
    "## Tensor Shape\n",
    "\n",
    "The shape of a tensor tells us the amount of elements that exist in each dimension of the tensor. For example:\n"
   ]
  },
  {
   "cell_type": "code",
   "execution_count": 26,
   "metadata": {},
   "outputs": [
    {
     "data": {
      "text/plain": [
       "TensorShape([3, 2])"
      ]
     },
     "execution_count": 26,
     "metadata": {},
     "output_type": "execute_result"
    }
   ],
   "source": [
    "tensorWithRank2.shape\n"
   ]
  },
  {
   "attachments": {},
   "cell_type": "markdown",
   "metadata": {},
   "source": [
    "## Changing a tensor's shape\n",
    "\n",
    "The number of elements of a tensor is the product of the sizes of all its shapes (e.g. 3 lists x 2 elements/list = 6 elements).\n",
    "\n",
    "If different tensors have the same number of elements, we can \"reshape\" the tensor (i.e. rearrange the elements). For example:\n"
   ]
  },
  {
   "cell_type": "code",
   "execution_count": 29,
   "metadata": {},
   "outputs": [
    {
     "name": "stdout",
     "output_type": "stream",
     "text": [
      "tf.Tensor(\n",
      "[[[1. 1. 1.]\n",
      "  [1. 1. 1.]]], shape=(1, 2, 3), dtype=float32)\n",
      "tf.Tensor(\n",
      "[[[1.]\n",
      "  [1.]\n",
      "  [1.]]\n",
      "\n",
      " [[1.]\n",
      "  [1.]\n",
      "  [1.]]], shape=(2, 3, 1), dtype=float32)\n",
      "tf.Tensor(\n",
      "[[1. 1.]\n",
      " [1. 1.]\n",
      " [1. 1.]], shape=(3, 2), dtype=float32)\n"
     ]
    }
   ],
   "source": [
    "# tf.ones() creates a tensore with a shape [1,2,3] (total of 6 elements) where each element is a one\n",
    "# tf.zeroes() also exists\n",
    "tensor1 = tf.ones([1,2,3])\n",
    "print(tensor1)\n",
    "\n",
    "# reshape the tensor to a shape of [2,3,1] (total of siz elements)\n",
    "tensor2 = tf.reshape(tensor1, [2,3,1])\n",
    "print(tensor2)\n",
    "\n",
    "# -1 tells the tensor to calculate/infer the size of the dimension in that layer so that all the elements in the original tensor are accounted for --> in this case, it'll reshape the tensor to [3,2]\n",
    "tensor3 = tf.reshape(tensor1, [3,-1])\n",
    "print(tensor3)"
   ]
  },
  {
   "attachments": {},
   "cell_type": "markdown",
   "metadata": {},
   "source": [
    "## Types of tensors\n",
    "\n",
    "There are many types of tensors. The most common ones are:\n",
    "\n",
    "1. Variable\n",
    "2. Constant\n",
    "3. Placeholder\n",
    "4. SparseTensor\n",
    "\n",
    "With the exception of Variable tensors, the other tensors are immutable, in that their value cannot change during execution.\n"
   ]
  },
  {
   "attachments": {},
   "cell_type": "markdown",
   "metadata": {},
   "source": [
    "## Evaluating Tensors\n",
    "\n",
    "Remember that tensors represent a partially complete computation. We will sometimes need to run a **session** in order to evaluate a tensor. There are many ways to get the value of a tensor, the simples being:\n"
   ]
  },
  {
   "cell_type": "code",
   "execution_count": 27,
   "metadata": {},
   "outputs": [
    {
     "ename": "AttributeError",
     "evalue": "module 'tensorflow' has no attribute 'Session'",
     "output_type": "error",
     "traceback": [
      "\u001b[1;31m---------------------------------------------------------------------------\u001b[0m",
      "\u001b[1;31mAttributeError\u001b[0m                            Traceback (most recent call last)",
      "\u001b[1;32m~\\AppData\\Local\\Temp\\ipykernel_24040\\3208742295.py\u001b[0m in \u001b[0;36m<module>\u001b[1;34m\u001b[0m\n\u001b[1;32m----> 1\u001b[1;33m \u001b[1;32mwith\u001b[0m \u001b[0mtf\u001b[0m\u001b[1;33m.\u001b[0m\u001b[0mSession\u001b[0m\u001b[1;33m(\u001b[0m\u001b[1;33m)\u001b[0m \u001b[1;32mas\u001b[0m \u001b[0msess\u001b[0m\u001b[1;33m:\u001b[0m\u001b[1;33m\u001b[0m\u001b[1;33m\u001b[0m\u001b[0m\n\u001b[0m\u001b[0;32m      2\u001b[0m         \u001b[0mtensor3\u001b[0m\u001b[1;33m.\u001b[0m\u001b[0meval\u001b[0m\u001b[1;33m(\u001b[0m\u001b[1;33m)\u001b[0m\u001b[1;33m\u001b[0m\u001b[1;33m\u001b[0m\u001b[0m\n",
      "\u001b[1;31mAttributeError\u001b[0m: module 'tensorflow' has no attribute 'Session'"
     ]
    }
   ],
   "source": [
    "with tf.Session() as sess:\n",
    "\ttensor3.eval()"
   ]
  }
 ],
 "metadata": {
  "kernelspec": {
   "display_name": "Python 3",
   "language": "python",
   "name": "python3"
  },
  "language_info": {
   "codemirror_mode": {
    "name": "ipython",
    "version": 3
   },
   "file_extension": ".py",
   "mimetype": "text/x-python",
   "name": "python",
   "nbconvert_exporter": "python",
   "pygments_lexer": "ipython3",
   "version": "3.11.1 (tags/v3.11.1:a7a450f, Dec  6 2022, 19:58:39) [MSC v.1934 64 bit (AMD64)]"
  },
  "orig_nbformat": 4,
  "vscode": {
   "interpreter": {
    "hash": "aeb049b9bf8b16354ffe44053513d65a8ff15e732aed5d010b80564afa95e149"
   }
  }
 },
 "nbformat": 4,
 "nbformat_minor": 2
}
